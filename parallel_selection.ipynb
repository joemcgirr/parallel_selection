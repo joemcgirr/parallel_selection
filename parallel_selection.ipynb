{
 "cells": [
  {
   "cell_type": "code",
   "execution_count": null,
   "metadata": {},
   "outputs": [],
   "source": [
    "import io\n",
    "import pandas as pd\n",
    "import numpy as np"
   ]
  },
  {
   "cell_type": "code",
   "execution_count": null,
   "metadata": {},
   "outputs": [],
   "source": [
    "job = \"_sweed\"\n",
    "# fungi\n",
    "#vcfs = [\"Immitis.vcf\",\"Gattii.vcf\",\"pBrasiliensis.vcf\",\"pJirovecii.vcf\",\"Murina.vcf\",\"Posadasii.vcf\",\"histoplasmaG186ar.vcf\",\"histoplasmaG217b.vcf\",\"histoplasmaH88.vcf\",\"histoplasmaNam1.vcf\"]\n",
    "#dirs = [\"/pine/scr/m/a/mavenger/bwaFungifiles/immitisBams/mPileupSamtools\",\"/pine/scr/m/a/mavenger/bwaFungifiles/gattiiBams/mpileupSamtools\",\"/pine/scr/m/a/mavenger/bwaFungifiles/ParaBrasiliensis/samtoolsMpileup\",\"/pine/scr/m/a/mavenger/bwaFungifiles/pneuJirovecii/MpileupSamtools\",\"/pine/scr/m/a/mavenger/bwaFungifiles/Murina/samtools\",\"/pine/scr/m/a/mavenger/bwaFungifiles/posadasiiBamZ/samtoolMpileup\",\"/pine/scr/m/a/mavenger/bwaFungifiles/histoplasmaG186ar/samtoolsMPileup\",\"/pine/scr/m/a/mavenger/bwaFungifiles/histoplasmaG217b/samtoolsMPileup\",\"/pine/scr/m/a/mavenger/bwaFungifiles/histoplasmaH88/mPileupSamtools\",\"/pine/scr/m/a/mavenger/bwaFungifiles/histoplasmaNam1/samtoolsMpileup\"]\n",
    "\n",
    "# flies\n",
    "dirs = [\"/pine/scr/m/a/mavenger/bwaDrosophilaFiles/mauritiana/samtoolsMpileup\",\"/pine/scr/m/a/mavenger/bwaDrosophilaFiles/santomea/samtoolsMpile\",\"/pine/scr/m/a/mavenger/bwaDrosophilaFiles/sechellia/samtoolsMPU\",\"/pine/scr/m/a/mavenger/bwaDrosophilaFiles/yakuba/MpileupSamtools\",\"/pine/scr/m/a/mavenger/bwaDrosophilaFiles/melonagater/samtoolMPile\"]\n",
    "vcfs = [\"Mauritiana.vcf\",\"Santomea.vcf\",\"Sechellia.vcf\",\"Yakuba.vcf\",\"MeloMergeMpileup.vcf\"]\n",
    "\n",
    "for i in range(0,len(vcfs)):\n",
    "    infile = vcfs[i]\n",
    "    #sbatch submission script header\n",
    "    script = 'script_' + infile + job + '.sh'\n",
    "    outfile = io.open(script,'w', newline='\\n') \n",
    "     \n",
    "    outfile.write('#!/bin/bash\\n\\n#SBATCH --job-name='+infile+job+'\\n')\n",
    "    outfile.write('#SBATCH --mem=16G\\n')\n",
    "    outfile.write('#SBATCH --ntasks=4\\n')\n",
    "    outfile.write('#SBATCH --time=168:00:00 ## \\n')\n",
    "    outfile.write('#SBATCH -e '+infile+job+'_%A_%a.err ##error file if you want one (will be per job)\\n')\n",
    "    outfile.write('#SBATCH --mail-user=jmcgirr@email.unc.edu ##email you when job starts,ends,etc\\n#SBATCH --mail-type=ALL\\n\\n')\n",
    "    \n",
    "    outfile.write('module load samtools \\n')\n",
    "    outfile.write('bcftools call --threads 4 -m -Ov -o /pine/scr/j/m/jmcgirr/matute/vcfs/fly/'+vcfs[i]+' '+dirs[i]+'/'+vcfs[i]+' \\n')\n",
    "    outfile.write('module load vcftools \\n')\n",
    "    outfile.write('vcftools --vcf /pine/scr/j/m/jmcgirr/matute/vcfs/fly/'+vcfs[i]+' --minQ 20 --maf 0.05 --max-missing 0.9 --remove-indels --min-alleles 2 --max-alleles 2 --recode --out /pine/scr/j/m/jmcgirr/matute/vcfs/fly/'+vcfs[i]+'_filtered_snps \\n')\n",
    "    outfile.write('sed \\'s/,\\*//g\\' /pine/scr/j/m/jmcgirr/matute/vcfs/fly/'+vcfs[i]+'_filtered_snps.recode.vcf > /pine/scr/j/m/jmcgirr/matute/vcfs/fly/'+vcfs[i]+'_filtered_snps_sweed.vcf \\n')\n",
    "    outfile.write('/pine/scr/j/m/jmcgirr/matute/sweed/sweed-master/SweeD-P -input /pine/scr/j/m/jmcgirr/matute/vcfs/fly/'+vcfs[i]+'_filtered_snps_sweed.vcf -name '+vcfs[i]+'_grid1000 -strictPolymorphic -folded -grid 1000 -osfs '+vcfs[i]+'_sfs_grid1000 -threads 4 \\n')\n",
    "    outfile.write('sed \\'/^#/ d\\' /pine/scr/j/m/jmcgirr/matute/vcfs/fly/'+vcfs[i]+'_filtered_snps_sweed.vcf | awk \\'{print $1}\\' | cat -n | sort -k2 | uniq -f1 -d | sort -n | cut -f2- | nl > '+vcfs[i]+'_chrom_key.txt \\n')\n",
    "    \n",
    "    #run sbatch submission \n",
    "    outfile.write('\\n\\n#command to run it on longleaf is sbatch '+script)\n",
    "    outfile.close()\n",
    "\n"
   ]
  }
 ],
 "metadata": {
  "kernelspec": {
   "display_name": "Python 3",
   "language": "python",
   "name": "python3"
  },
  "language_info": {
   "codemirror_mode": {
    "name": "ipython",
    "version": 3
   },
   "file_extension": ".py",
   "mimetype": "text/x-python",
   "name": "python",
   "nbconvert_exporter": "python",
   "pygments_lexer": "ipython3",
   "version": "3.6.8"
  }
 },
 "nbformat": 4,
 "nbformat_minor": 2
}
